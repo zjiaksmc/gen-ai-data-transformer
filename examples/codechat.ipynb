{
 "cells": [
  {
   "cell_type": "code",
   "execution_count": null,
   "metadata": {},
   "outputs": [],
   "source": [
    "%load_ext autoreload\n",
    "%autoreload 2"
   ]
  },
  {
   "cell_type": "code",
   "execution_count": null,
   "metadata": {},
   "outputs": [],
   "source": [
    "from ai_data_formatter.copilot.model import PromptCodeChatSession\n",
    "from ai_data_formatter.config import ModelConfig, DBClient\n",
    "import pandas as pd\n",
    "import json\n",
    "from sqlalchemy.engine import URL\n",
    "from configparser import ConfigParser\n",
    "\n",
    "config = ConfigParser()\n",
    "with open(\"set-env\") as stream:\n",
    "    config.read_string(\"[DEFAULT]\\n\" + stream.read())  # This line does the trick.\n",
    "\n",
    "with open(\"code_prompt_template.json\", \"r\") as f:\n",
    "    model_configs = json.load(f)\n",
    "\n",
    "pg_host=config['DEFAULT'].get(\"PG_HOST\")\n",
    "pg_uname=config['DEFAULT'].get(\"PG_UNAME\")\n",
    "pg_secret=config['DEFAULT'].get(\"PG_SECRET\")\n",
    "pg_db=config['DEFAULT'].get(\"PG_DB\")\n",
    "conn_str_alchemy = f\"postgresql://{pg_uname}:{pg_secret}@{pg_host}/{pg_db}\"\n",
    "cache_secret=config['DEFAULT'].get(\"CACHE_SECRET\")\n",
    "cache_host=config['DEFAULT'].get(\"CACHE_HOST\")\n",
    "cache_port=config['DEFAULT'].get(\"CACHE_PORT\")\n",
    "conn_str_redis = f\"redis://:{cache_secret}@{cache_host}:{cache_port}/0\"\n",
    "test_data = pd.read_csv(\"data/pii_test.csv\")\n",
    "github_token = config['DEFAULT'].get(\"GITHUB_SECRET\")\n",
    "\n",
    "import os\n",
    "os.environ[\"GOOGLE_CLOUD_PROJECT\"] = \"docai-warehouse-demo\"\n",
    "os.environ[\"GOOGLE_APPLICATION_CREDENTIALS\"] = \"/Users/zjia/Workspace/gen-ai-data-transformer/sa_token.json\"\n",
    "\n",
    "dbclient = DBClient.from_dict(\n",
    "    {\n",
    "        \"db\": {\n",
    "            \"url\": conn_str_alchemy\n",
    "        },\n",
    "        \"cache\": {\n",
    "            \"url\": \"redis://:fKPWbbOrbgvQI46TRiY04UjcFLH33GVTcAzCaMzMmYs=@aidf-cache.redis.cache.windows.net:6379/0\",\n",
    "            \"expire_time_second\": 120\n",
    "        }\n",
    "    }\n",
    ")\n",
    "\n",
    "model_config_spec = list(filter(lambda config: config.get(\"tag\")==\"copilot-cleansing\", model_configs))[0]\n",
    "model_config = ModelConfig.from_dict(model_config_spec)\n",
    "\n"
   ]
  },
  {
   "cell_type": "code",
   "execution_count": null,
   "metadata": {},
   "outputs": [],
   "source": [
    "import requests\n",
    "\n",
    "headers = {\n",
    "    \"Accept\": \"application/vnd.github+json\",\n",
    "    \"Authorization\": f\"Bearer {github_token}\",\n",
    "    \"X-GitHub-Api-Version\": \"2022-11-28\"\n",
    "}\n",
    "url = \"https://api.github.com/search/code?q=clean ssn+org:ksmc\"\n",
    "\n",
    "res = requests.get(url, headers=headers)\n",
    "res.json()[\"items\"][0]"
   ]
  },
  {
   "cell_type": "code",
   "execution_count": null,
   "metadata": {},
   "outputs": [],
   "source": [
    "path_array = res.json()[\"items\"][0][\"html_url\"].split(\"/\")\n",
    "repository_name = res.json()[\"items\"][0].get(\"repository\", {}).get(\"name\")\n",
    "raw_file_path = os.path.join(*path_array[path_array.index('blob')+1:])\n",
    "raw_url = f\"https://raw.githubusercontent.com/ksmc/{repository_name}/{raw_file_path}\"\n",
    "raw_url"
   ]
  },
  {
   "cell_type": "code",
   "execution_count": null,
   "metadata": {},
   "outputs": [],
   "source": [
    "# raw_url = \"https://github.com/ksmc/p3rl-prototype-azure/raw/b576cb4fd0a20efbddf502e9844471bb0890a97b/notebooks/main-clean.py\"\n",
    "# raw_url = \"https://raw.githubusercontent.com/ksmc/p3rl-prototype-azure/b576cb4fd0a20efbddf502e9844471bb0890a97b/notebooks/main-clean.py\""
   ]
  },
  {
   "cell_type": "code",
   "execution_count": null,
   "metadata": {},
   "outputs": [],
   "source": [
    "res.json()"
   ]
  },
  {
   "cell_type": "code",
   "execution_count": null,
   "metadata": {},
   "outputs": [],
   "source": [
    "res = requests.get(raw_url, headers=headers)\n",
    "res.text"
   ]
  },
  {
   "cell_type": "code",
   "execution_count": null,
   "metadata": {},
   "outputs": [],
   "source": [
    "session = PromptCodeChatSession(\n",
    "    project_id=\"docai-warehouse-demo\", \n",
    "    location=\"us-central1\",\n",
    "    model_config=model_config,\n",
    "    session_id=None,\n",
    "    dbclient=dbclient,\n",
    "    pre_load_model=False\n",
    ")"
   ]
  },
  {
   "cell_type": "code",
   "execution_count": null,
   "metadata": {},
   "outputs": [],
   "source": [
    "res = session.load_sample_data(test_data)\n",
    "res"
   ]
  },
  {
   "cell_type": "code",
   "execution_count": null,
   "metadata": {},
   "outputs": [],
   "source": [
    "res = session.chat_session.send_message(\n",
    "    \"\"\"\n",
    "    Web search results:\n",
    "\n",
    "[1] \"Number and Keep Your Information Safe Social Security maintains a robust cybersecurity system, but you are the most important factor in helping us keep your information safe. You can help by: • Opening your personal my Social Security account. Create your account today and take away the risk of someone else trying to create one in your name ...\" URL: https://www.ssa.gov/pubs/EN-05-10220.pdf\n",
    "\n",
    "[2] \"If documentation isn't required and you just need to share an ID number or some other details, you can provide the information over the phone. Again, do so only if you know the person is legitimate and trustworthy. Short of relying on an overnight courier or the postal service, your alternatives involve technology.\" URL: https://www.aarp.org/home-family/personal-technology/info-2021/online-ssn-security-tips.html\n",
    "\n",
    "[3] \"Social Security Number Format. The Social Security number format is a nine-digit number, generally separated by hyphens into sections of three digits, two digits, and four digits. For example, a typical SSN follows the format of \"AAA-GG-SSSS,\" where A represents the Area number, G represents the Group number, and S represents the Serial number.\" URL: https://ssofficelocation.com/resources/social-security-number-format/\n",
    "\n",
    "[4] \"Never give them this information without verifying their identity. The best way to do this is by calling them back at a verified phone number or visiting them in person if possible. The phone call might be from a scammer who is looking to steal your information. #4.\" URL: https://ssofficelocation.com/resources/how-to-protect-your-social-security-number/\n",
    "\n",
    "[5] \"Social Security numbers, also known as SSNs, are allocated through a process called randomization that was introduced in June 2011. This system retains the long-standing nine-digit format but assigns a number to each new Social Security cardholder randomly, eliminating methods that date to the inception of Social Security in the mid-1930s.\" URL: https://www.aarp.org/retirement/social-security/questions-answers/how-are-SSNs-assigned.html\n",
    "\n",
    "Current date: 12/17/2023\n",
    "\n",
    "Instructions: Using the provided web search results, write a comprehensive reply to the given query. Make sure to cite results using [number] notation after the reference. If the provided search results refer to multiple subjects with the same name, write separate answers for each subject. Query: how to clean and standardize social security number\n",
    "    \"\"\"\n",
    ")\n",
    "print(res.text)"
   ]
  },
  {
   "cell_type": "code",
   "execution_count": null,
   "metadata": {},
   "outputs": [],
   "source": [
    "res = session.send_message(\"how to clean and standardize social security number\")\n",
    "print(res)"
   ]
  },
  {
   "cell_type": "code",
   "execution_count": null,
   "metadata": {},
   "outputs": [],
   "source": [
    "res = session.send_message(\"The code doesn't work on the last example. Rewrite the logic.\")\n",
    "res"
   ]
  },
  {
   "cell_type": "code",
   "execution_count": null,
   "metadata": {},
   "outputs": [],
   "source": [
    "import redis\n",
    "import pickle\n",
    "session_id = \"d70bd6b639a84753866836cb9ba7c110\"\n",
    "cache = redis.Redis.from_url(\"redis://:fKPWbbOrbgvQI46TRiY04UjcFLH33GVTcAzCaMzMmYs=@aidf-cache.redis.cache.windows.net:6379/0\")\n",
    "messages = cache.get(f\"session_logging_queue:{session_id}\") \n",
    "if messages is None:\n",
    "    messages = []\n",
    "else:\n",
    "    messages = pickle.loads(messages)\n",
    "messages"
   ]
  },
  {
   "cell_type": "code",
   "execution_count": null,
   "metadata": {},
   "outputs": [],
   "source": []
  }
 ],
 "metadata": {
  "kernelspec": {
   "display_name": "gen-ai",
   "language": "python",
   "name": "python3"
  },
  "language_info": {
   "codemirror_mode": {
    "name": "ipython",
    "version": 3
   },
   "file_extension": ".py",
   "mimetype": "text/x-python",
   "name": "python",
   "nbconvert_exporter": "python",
   "pygments_lexer": "ipython3",
   "version": "3.8.16"
  },
  "orig_nbformat": 4
 },
 "nbformat": 4,
 "nbformat_minor": 2
}
